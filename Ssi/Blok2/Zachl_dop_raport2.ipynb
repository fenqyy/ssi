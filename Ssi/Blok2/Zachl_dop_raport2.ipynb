{
 "cells": [
  {
   "cell_type": "code",
   "execution_count": 1,
   "id": "1d837597-4376-4ed0-b005-83b9e479d9d8",
   "metadata": {},
   "outputs": [
    {
     "name": "stdout",
     "output_type": "stream",
     "text": [
      "Tablica znaki_tst1 po przesunięciu: \n",
      "[[0 0 0 0]\n",
      " [0 1 1 0]\n",
      " [1 1 1 0]\n",
      " [0 0 1 0]\n",
      " [0 0 1 0]]\n"
     ]
    }
   ],
   "source": [
    "#Należy za pomocą podanego algorytmu proszę określić miarę (nie)podobieństwa obustronnego pomiędzy pierwszym  znakiem testowym (znaki_tst{1}) przesuniętym w lewo o 1, \n",
    "#a wszystkimi znakami wzorcowymi (znaki_wz{*}). Należy użyć miary odległości Euklidesowej. Proszę pokazać ten obraz jak będzie wyglądał po przesunięciu i miary (nie) podobieństwa.\n",
    "\n",
    "from zachl_dop import *\n",
    "\n",
    "znaki_tst1_roll = np.roll(znaki_tst1, -1)\n",
    "\n",
    "print(f'Tablica znaki_tst1 po przesunięciu: \\n{znaki_tst1_roll}')"
   ]
  },
  {
   "cell_type": "code",
   "execution_count": 2,
   "id": "4dbcfb19-2f08-4c3c-bc66-fa902bbbcb3d",
   "metadata": {},
   "outputs": [
    {
     "name": "stdout",
     "output_type": "stream",
     "text": [
      "Miara niepodobieństwa obustronnego znaki_tst1_roll - znaki_wz1, miara Euklidesowa: 5.0, 5.414213562373095, -10.414213562373096\n",
      "Miara niepodobieństwa obustronnego znaki_tst1_roll - znaki_wz2, miara Euklidesowa: 5.0, 10.414213562373096, -15.414213562373096\n",
      "Miara niepodobieństwa obustronnego znaki_tst1_roll - znaki_wz3, miara Euklidesowa: 3.0, 9.414213562373096, -12.414213562373096\n"
     ]
    }
   ],
   "source": [
    "miara1_roll_euk_babb = miara_niepodobienstwa(znaki_tst1_roll, znaki_wz1, 'euk')\n",
    "miara1_roll_euk_bbba = miara_niepodobienstwa(znaki_wz1, znaki_tst1_roll, 'euk')\n",
    "print(f'Miara niepodobieństwa obustronnego znaki_tst1_roll - znaki_wz1, miara Euklidesowa: {miara1_roll_euk_babb}, {miara1_roll_euk_bbba}, {miara_niepodobienstwa_obustronnego(miara1_roll_euk_babb, miara1_roll_euk_bbba)}')\n",
    "\n",
    "miara2_roll_euk_babb = miara_niepodobienstwa(znaki_tst1_roll, znaki_wz2, 'euk')\n",
    "miara2_roll_euk_bbba = miara_niepodobienstwa(znaki_wz2, znaki_tst1_roll, 'euk')\n",
    "print(f'Miara niepodobieństwa obustronnego znaki_tst1_roll - znaki_wz2, miara Euklidesowa: {miara2_roll_euk_babb}, {miara2_roll_euk_bbba}, {miara_niepodobienstwa_obustronnego(miara2_roll_euk_babb, miara2_roll_euk_bbba)}')\n",
    "\n",
    "miara3_roll_euk_babb = miara_niepodobienstwa(znaki_tst1_roll, znaki_wz3, 'euk')\n",
    "miara3_roll_euk_bbba = miara_niepodobienstwa(znaki_wz3, znaki_tst1_roll, 'euk')\n",
    "print(f'Miara niepodobieństwa obustronnego znaki_tst1_roll - znaki_wz3, miara Euklidesowa: {miara3_roll_euk_babb}, {miara3_roll_euk_bbba}, {miara_niepodobienstwa_obustronnego(miara3_roll_euk_babb, miara3_roll_euk_bbba)}')"
   ]
  },
  {
   "cell_type": "code",
   "execution_count": null,
   "id": "c7bee0c9-c455-4871-90c0-39ec5848408f",
   "metadata": {},
   "outputs": [],
   "source": []
  }
 ],
 "metadata": {
  "kernelspec": {
   "display_name": "Python 3 (ipykernel)",
   "language": "python",
   "name": "python3"
  },
  "language_info": {
   "codemirror_mode": {
    "name": "ipython",
    "version": 3
   },
   "file_extension": ".py",
   "mimetype": "text/x-python",
   "name": "python",
   "nbconvert_exporter": "python",
   "pygments_lexer": "ipython3",
   "version": "3.12.3"
  }
 },
 "nbformat": 4,
 "nbformat_minor": 5
}
