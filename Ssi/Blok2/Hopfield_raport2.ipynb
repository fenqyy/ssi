{
 "cells": [
  {
   "cell_type": "code",
   "execution_count": 2,
   "id": "42c62a74-1945-482e-97ee-2b0275acef1c",
   "metadata": {},
   "outputs": [
    {
     "name": "stdout",
     "output_type": "stream",
     "text": [
      "Wagi pierwszego neuronu:\n",
      "[[ 0.      0.0016 -0.0048 -0.0016  0.0016]\n",
      " [-0.0016  0.0048 -0.0048  0.0016 -0.0016]\n",
      " [-0.0048 -0.0016 -0.0016 -0.0048 -0.0048]\n",
      " [-0.0016  0.0048 -0.0048  0.0016 -0.0016]\n",
      " [ 0.0016  0.0016 -0.0048 -0.0016  0.0016]]\n"
     ]
    }
   ],
   "source": [
    "from hopfield import *\n",
    "\n",
    "waga1 = waga[0]\n",
    "print(\"Wagi pierwszego neuronu:\")\n",
    "print(waga1.reshape(5,5))"
   ]
  },
  {
   "cell_type": "code",
   "execution_count": null,
   "id": "b0dc217f-ba1a-4cde-9831-a1cfe0762956",
   "metadata": {},
   "outputs": [],
   "source": []
  }
 ],
 "metadata": {
  "kernelspec": {
   "display_name": "Python 3 (ipykernel)",
   "language": "python",
   "name": "python3"
  },
  "language_info": {
   "codemirror_mode": {
    "name": "ipython",
    "version": 3
   },
   "file_extension": ".py",
   "mimetype": "text/x-python",
   "name": "python",
   "nbconvert_exporter": "python",
   "pygments_lexer": "ipython3",
   "version": "3.12.3"
  }
 },
 "nbformat": 4,
 "nbformat_minor": 5
}
