{
 "cells": [
  {
   "cell_type": "code",
   "execution_count": 3,
   "id": "c571f901-1840-4cfd-be18-96a5f4d05280",
   "metadata": {},
   "outputs": [
    {
     "name": "stdout",
     "output_type": "stream",
     "text": [
      "Miara niepodobieństwa obustronnego znaki_tst1 - znaki_wz1, miara Euklidesowa: -2.0\n"
     ]
    }
   ],
   "source": [
    "#Należy za pomocą podanego algorytmu proszę określić miarę (nie)podobieństwa obustronnego pomiędzy pierwszym znakiem testowym (znaki_tst{1}), a wszystkimi znakami wzorcowymi (znaki_wz{*}). \n",
    "#Należy użyć miary odległości Manhattan, Czebyszewa i Euklidesowej. Powinny być wyniki w postaci 9 liczb. \n",
    "\n",
    "from zachl_dop import *\n",
    "\n",
    "miara1_euk_babb = miara_niepodobienstwa(znaki_tst1, znaki_wz1, 'euk')\n",
    "miara1_euk_bbba = miara_niepodobienstwa(znaki_wz1, znaki_tst1, 'euk')\n",
    "print(f'Miara niepodobieństwa obustronnego znaki_tst1 - znaki_wz1, miara Euklidesowa: {miara_niepodobienstwa_obustronnego(miara1_euk_babb, miara1_euk_bbba)}')"
   ]
  },
  {
   "cell_type": "code",
   "execution_count": 4,
   "id": "e8d20752-327a-4936-ac8e-b0512f4201bd",
   "metadata": {},
   "outputs": [
    {
     "name": "stdout",
     "output_type": "stream",
     "text": [
      "Miara niepodobieństwa obustronnego znaki_tst1 - znaki_wz1, miara Manhattan: -2\n"
     ]
    }
   ],
   "source": [
    "miara1_man_babb = miara_niepodobienstwa(znaki_tst1, znaki_wz1, 'man')\n",
    "miara1_man_bbba = miara_niepodobienstwa(znaki_wz1, znaki_tst1, 'man')\n",
    "print(f'Miara niepodobieństwa obustronnego znaki_tst1 - znaki_wz1, miara Manhattan: {miara_niepodobienstwa_obustronnego(miara1_man_babb, miara1_man_bbba)}')"
   ]
  },
  {
   "cell_type": "code",
   "execution_count": 5,
   "id": "f1dd2341-1af6-4149-aef4-519e6746814d",
   "metadata": {},
   "outputs": [
    {
     "name": "stdout",
     "output_type": "stream",
     "text": [
      "Miara niepodobieństwa obustronnego znaki_tst1 - znaki_wz1, miara Czebyszewa: -2\n"
     ]
    }
   ],
   "source": [
    "miara1_cze_babb = miara_niepodobienstwa(znaki_tst1, znaki_wz1, 'cze')\n",
    "miara1_cze_bbba = miara_niepodobienstwa(znaki_wz1, znaki_tst1, 'cze')\n",
    "print(f'Miara niepodobieństwa obustronnego znaki_tst1 - znaki_wz1, miara Czebyszewa: {miara_niepodobienstwa_obustronnego(miara1_cze_babb, miara1_cze_bbba)}')"
   ]
  },
  {
   "cell_type": "code",
   "execution_count": 6,
   "id": "989f39c9-3405-45fd-abff-a635a89090fb",
   "metadata": {},
   "outputs": [
    {
     "name": "stdout",
     "output_type": "stream",
     "text": [
      "Miara niepodobieństwa obustronnego znaki_tst1 - znaki_wz2, miara Euklidesowa: -15.06449510224598\n"
     ]
    }
   ],
   "source": [
    "miara2_euk_babb = miara_niepodobienstwa(znaki_tst1, znaki_wz2, 'euk')\n",
    "miara2_euk_bbba = miara_niepodobienstwa(znaki_wz2, znaki_tst1, 'euk')\n",
    "print(f'Miara niepodobieństwa obustronnego znaki_tst1 - znaki_wz2, miara Euklidesowa: {miara_niepodobienstwa_obustronnego(miara2_euk_babb, miara2_euk_bbba)}')"
   ]
  },
  {
   "cell_type": "code",
   "execution_count": 7,
   "id": "23757528-d7a6-472e-85fe-4da30cc92196",
   "metadata": {},
   "outputs": [
    {
     "name": "stdout",
     "output_type": "stream",
     "text": [
      "Miara niepodobieństwa obustronnego znaki_tst1 - znaki_wz2, miara Manhattan: -17\n"
     ]
    }
   ],
   "source": [
    "miara2_man_babb = miara_niepodobienstwa(znaki_tst1, znaki_wz2, 'man')\n",
    "miara2_man_bbba = miara_niepodobienstwa(znaki_wz2, znaki_tst1, 'man')\n",
    "print(f'Miara niepodobieństwa obustronnego znaki_tst1 - znaki_wz2, miara Manhattan: {miara_niepodobienstwa_obustronnego(miara2_man_babb, miara2_man_bbba)}')"
   ]
  },
  {
   "cell_type": "code",
   "execution_count": 8,
   "id": "bef7e8a1-ad4f-4b8d-9976-7e09566db7c1",
   "metadata": {},
   "outputs": [
    {
     "name": "stdout",
     "output_type": "stream",
     "text": [
      "Miara niepodobieństwa obustronnego znaki_tst1 - znaki_wz2, miara Czebyszewa: -14\n"
     ]
    }
   ],
   "source": [
    "miara2_cze_babb = miara_niepodobienstwa(znaki_tst1, znaki_wz2, 'cze')\n",
    "miara2_cze_bbba = miara_niepodobienstwa(znaki_wz2, znaki_tst1, 'cze')\n",
    "print(f'Miara niepodobieństwa obustronnego znaki_tst1 - znaki_wz2, miara Czebyszewa: {miara_niepodobienstwa_obustronnego(miara2_cze_babb, miara2_cze_bbba)}')"
   ]
  },
  {
   "cell_type": "code",
   "execution_count": 9,
   "id": "724dc3bc-4ab7-4356-a83a-cbeafb524416",
   "metadata": {},
   "outputs": [
    {
     "name": "stdout",
     "output_type": "stream",
     "text": [
      "Miara niepodobieństwa obustronnego znaki_tst1 - znaki_wz3, miara Euklidesowa: -12.886349517372675\n"
     ]
    }
   ],
   "source": [
    "miara3_euk_babb = miara_niepodobienstwa(znaki_tst1, znaki_wz3, 'euk')\n",
    "miara3_euk_bbba = miara_niepodobienstwa(znaki_wz3, znaki_tst1, 'euk')\n",
    "print(f'Miara niepodobieństwa obustronnego znaki_tst1 - znaki_wz3, miara Euklidesowa: {miara_niepodobienstwa_obustronnego(miara3_euk_babb, miara3_euk_bbba)}')"
   ]
  },
  {
   "cell_type": "code",
   "execution_count": 10,
   "id": "33132fe8-e710-4aef-b0bb-af511703a9ac",
   "metadata": {},
   "outputs": [
    {
     "name": "stdout",
     "output_type": "stream",
     "text": [
      "Miara niepodobieństwa obustronnego znaki_tst1 - znaki_wz3, miara Manhattan: -15\n"
     ]
    }
   ],
   "source": [
    "miara3_man_babb = miara_niepodobienstwa(znaki_tst1, znaki_wz3, 'man')\n",
    "miara3_man_bbba = miara_niepodobienstwa(znaki_wz3, znaki_tst1, 'man')\n",
    "print(f'Miara niepodobieństwa obustronnego znaki_tst1 - znaki_wz3, miara Manhattan: {miara_niepodobienstwa_obustronnego(miara3_man_babb, miara3_man_bbba)}')"
   ]
  },
  {
   "cell_type": "code",
   "execution_count": 11,
   "id": "f6f6010a-3782-460e-b512-fcf41ae18a5f",
   "metadata": {},
   "outputs": [
    {
     "name": "stdout",
     "output_type": "stream",
     "text": [
      "Miara niepodobieństwa obustronnego znaki_tst1 - znaki_wz3, miara Czebyszewa: -12\n"
     ]
    }
   ],
   "source": [
    "miara3_cze_babb = miara_niepodobienstwa(znaki_tst1, znaki_wz3, 'cze')\n",
    "miara3_cze_bbba = miara_niepodobienstwa(znaki_wz3, znaki_tst1, 'cze')\n",
    "print(f'Miara niepodobieństwa obustronnego znaki_tst1 - znaki_wz3, miara Czebyszewa: {miara_niepodobienstwa_obustronnego(miara3_cze_babb, miara3_cze_bbba)}')"
   ]
  }
 ],
 "metadata": {
  "kernelspec": {
   "display_name": "Python 3 (ipykernel)",
   "language": "python",
   "name": "python3"
  },
  "language_info": {
   "codemirror_mode": {
    "name": "ipython",
    "version": 3
   },
   "file_extension": ".py",
   "mimetype": "text/x-python",
   "name": "python",
   "nbconvert_exporter": "python",
   "pygments_lexer": "ipython3",
   "version": "3.12.3"
  }
 },
 "nbformat": 4,
 "nbformat_minor": 5
}
