{
 "cells": [
  {
   "cell_type": "code",
   "execution_count": 1,
   "id": "15c46d9f-e9dc-4941-8316-5ed4d9f4614a",
   "metadata": {},
   "outputs": [
    {
     "name": "stdout",
     "output_type": "stream",
     "text": [
      "Miara niepodobieństwa obustronnego znaki_tst2 - znaki_wz1, miara Euklidesowa: 12.886349517372675, 1.0, -13.886349517372675\n",
      "Miara niepodobieństwa obustronnego znaki_tst2 - znaki_wz2, miara Euklidesowa: 6.0, 2.0, -8.0\n",
      "Miara niepodobieństwa obustronnego znaki_tst2 - znaki_wz3, miara Euklidesowa: 3.0, 0.0, -3.0\n"
     ]
    }
   ],
   "source": [
    "#Należy za pomocą podanego algorytmu proszę określić miarę (nie)podobieństwa obustronnego pomiędzy drugim i trzecim znakiem testowym (znaki_tst{2}, znaki_tst{3}), \n",
    "#a wszystkimi znakami wzorcowymi (znaki_wz{*}). Należy użyć miary odległości Euklidesowej.\n",
    "\n",
    "\n",
    "from zachl_dop import *\n",
    "\n",
    "miara1_tst2_euk_babb = miara_niepodobienstwa(znaki_tst2, znaki_wz1, 'euk')\n",
    "miara1_tst2_euk_bbba = miara_niepodobienstwa(znaki_wz1, znaki_tst2, 'euk')\n",
    "print(f'Miara niepodobieństwa obustronnego znaki_tst2 - znaki_wz1, miara Euklidesowa: {miara1_tst2_euk_babb}, {miara1_tst2_euk_bbba}, {miara_niepodobienstwa_obustronnego(miara1_tst2_euk_babb, miara1_tst2_euk_bbba)}')\n",
    "\n",
    "miara2_tst2_euk_babb = miara_niepodobienstwa(znaki_tst2, znaki_wz2, 'euk')\n",
    "miara2_tst2_euk_bbba = miara_niepodobienstwa(znaki_wz2, znaki_tst2, 'euk')\n",
    "print(f'Miara niepodobieństwa obustronnego znaki_tst2 - znaki_wz2, miara Euklidesowa: {miara2_tst2_euk_babb}, {miara2_tst2_euk_bbba}, {miara_niepodobienstwa_obustronnego(miara2_tst2_euk_babb, miara2_tst2_euk_bbba)}')\n",
    "\n",
    "miara3_tst2_euk_babb = miara_niepodobienstwa(znaki_tst2, znaki_wz3, 'euk')\n",
    "miara3_tst2_euk_bbba = miara_niepodobienstwa(znaki_wz3, znaki_tst2, 'euk')\n",
    "print(f'Miara niepodobieństwa obustronnego znaki_tst2 - znaki_wz3, miara Euklidesowa: {miara3_tst2_euk_babb}, {miara3_tst2_euk_bbba}, {miara_niepodobienstwa_obustronnego(miara3_tst2_euk_babb, miara3_tst2_euk_bbba)}')"
   ]
  },
  {
   "cell_type": "code",
   "execution_count": 2,
   "id": "e84bd9d7-bf66-46d6-bce4-8df983238209",
   "metadata": {},
   "outputs": [
    {
     "name": "stdout",
     "output_type": "stream",
     "text": [
      "Miara niepodobieństwa obustronnego znaki_tst3 - znaki_wz1, miara Euklidesowa: 13.30056307974577, 4.0, -17.30056307974577\n",
      "Miara niepodobieństwa obustronnego znaki_tst3 - znaki_wz2, miara Euklidesowa: 2.0, 1.0, -3.0\n",
      "Miara niepodobieństwa obustronnego znaki_tst3 - znaki_wz3, miara Euklidesowa: 4.0, 4.0, -8.0\n"
     ]
    }
   ],
   "source": [
    "miara1_tst3_euk_babb = miara_niepodobienstwa(znaki_tst3, znaki_wz1, 'euk')\n",
    "miara1_tst3_euk_bbba = miara_niepodobienstwa(znaki_wz1, znaki_tst3, 'euk')\n",
    "print(f'Miara niepodobieństwa obustronnego znaki_tst3 - znaki_wz1, miara Euklidesowa: {miara1_tst3_euk_babb}, {miara1_tst3_euk_bbba}, {miara_niepodobienstwa_obustronnego(miara1_tst3_euk_babb, miara1_tst3_euk_bbba)}')\n",
    "\n",
    "miara2_tst3_euk_babb = miara_niepodobienstwa(znaki_tst3, znaki_wz2, 'euk')\n",
    "miara2_tst3_euk_bbba = miara_niepodobienstwa(znaki_wz2, znaki_tst3, 'euk')\n",
    "print(f'Miara niepodobieństwa obustronnego znaki_tst3 - znaki_wz2, miara Euklidesowa: {miara2_tst3_euk_babb}, {miara2_tst3_euk_bbba}, {miara_niepodobienstwa_obustronnego(miara2_tst3_euk_babb, miara2_tst3_euk_bbba)}')\n",
    "\n",
    "miara3_tst3_euk_babb = miara_niepodobienstwa(znaki_tst3, znaki_wz3, 'euk')\n",
    "miara3_tst3_euk_bbba = miara_niepodobienstwa(znaki_wz3, znaki_tst3, 'euk')\n",
    "print(f'Miara niepodobieństwa obustronnego znaki_tst3 - znaki_wz3, miara Euklidesowa: {miara3_tst3_euk_babb}, {miara3_tst3_euk_bbba}, {miara_niepodobienstwa_obustronnego(miara3_tst3_euk_babb, miara3_tst3_euk_bbba)}')"
   ]
  },
  {
   "cell_type": "code",
   "execution_count": null,
   "id": "9bddd70d-0e05-4778-892d-97802035eb65",
   "metadata": {},
   "outputs": [],
   "source": []
  }
 ],
 "metadata": {
  "kernelspec": {
   "display_name": "Python 3 (ipykernel)",
   "language": "python",
   "name": "python3"
  },
  "language_info": {
   "codemirror_mode": {
    "name": "ipython",
    "version": 3
   },
   "file_extension": ".py",
   "mimetype": "text/x-python",
   "name": "python",
   "nbconvert_exporter": "python",
   "pygments_lexer": "ipython3",
   "version": "3.12.3"
  }
 },
 "nbformat": 4,
 "nbformat_minor": 5
}
